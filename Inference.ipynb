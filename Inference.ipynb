{
 "cells": [
  {
   "cell_type": "code",
   "execution_count": null,
   "id": "1227b358",
   "metadata": {},
   "outputs": [
    {
     "name": "stdout",
     "output_type": "stream",
     "text": [
      "Hasil prediksi: yes\n",
      "Probabilitas deposit (yes): 0.8697\n"
     ]
    }
   ],
   "source": [
    "# Import library yang dibutuhkan\n",
    "import pandas as pd\n",
    "import joblib\n",
    "\n",
    "# load model pipeline yang sudah disimpan\n",
    "model_pipeline = joblib.load(\"gb_model_pipeline.pkl\")  # Sesuaikan nama file jika berbeda\n",
    "\n",
    "# data baru\n",
    "data_baru = pd.DataFrame({\n",
    "    'age': [35],\n",
    "    'job': ['technician'],\n",
    "    'marital': ['single'],\n",
    "    'education': ['university.degree'],\n",
    "    'default': ['no'],\n",
    "    'balance': [3000],\n",
    "    'housing': ['no'],\n",
    "    'loan': ['no'],\n",
    "    'contact': ['cellular'],\n",
    "    'day': [15],\n",
    "    'month': ['aug'],\n",
    "    'duration': [500],\n",
    "    'campaign': [1],\n",
    "    'pdays': [3],\n",
    "    'previous': [2],\n",
    "    'poutcome': ['success']\n",
    "})\n",
    "\n",
    "# Lakukan prediksi\n",
    "prediksi = model_pipeline.predict(data_baru)[0]\n",
    "probabilitas = model_pipeline.predict_proba(data_baru)[0][1]\n",
    "\n",
    "# Tampilkan hasil prediksi\n",
    "print(\"Hasil prediksi:\", prediksi)\n",
    "print(f\"Probabilitas deposit (yes): {probabilitas:.4f}\")\n"
   ]
  },
  {
   "cell_type": "code",
   "execution_count": null,
   "id": "ce68e11b",
   "metadata": {},
   "outputs": [
    {
     "name": "stdout",
     "output_type": "stream",
     "text": [
      "Hasil prediksi: no\n",
      "Probabilitas deposit (yes): 0.1907\n"
     ]
    }
   ],
   "source": [
    "# data baru\n",
    "data_baru = pd.DataFrame({\n",
    "    'age': [30],\n",
    "    'job': ['admin.'],\n",
    "    'marital': ['married'],\n",
    "    'education': ['university.degree'],\n",
    "    'default': ['no'],\n",
    "    'balance': [1500],\n",
    "    'housing': ['yes'],\n",
    "    'loan': ['no'],\n",
    "    'contact': ['cellular'],\n",
    "    'day': [5],\n",
    "    'month': ['may'],\n",
    "    'duration': [200],\n",
    "    'campaign': [1],\n",
    "    'pdays': [999],\n",
    "    'previous': [0],\n",
    "    'poutcome': ['nonexistent']\n",
    "})\n",
    "\n",
    "# Lakukan prediksi\n",
    "prediksi = model_pipeline.predict(data_baru)[0]\n",
    "probabilitas = model_pipeline.predict_proba(data_baru)[0][1]\n",
    "\n",
    "# Tampilkan hasil prediksi\n",
    "print(\"Hasil prediksi:\", prediksi)\n",
    "print(f\"Probabilitas deposit (yes): {probabilitas:.4f}\")\n",
    "\n"
   ]
  }
 ],
 "metadata": {
  "kernelspec": {
   "display_name": "seblak-env",
   "language": "python",
   "name": "python3"
  },
  "language_info": {
   "codemirror_mode": {
    "name": "ipython",
    "version": 3
   },
   "file_extension": ".py",
   "mimetype": "text/x-python",
   "name": "python",
   "nbconvert_exporter": "python",
   "pygments_lexer": "ipython3",
   "version": "3.10.16"
  }
 },
 "nbformat": 4,
 "nbformat_minor": 5
}
